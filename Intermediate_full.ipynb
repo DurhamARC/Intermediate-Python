{
 "cells": [
  {
   "attachments": {
    "4bc4187b-d7a8-40d7-9b9b-e39c975e84a1.png": {
     "image/png": "[encoded data removed]"
    }
   },
   "cell_type": "markdown",
   "id": "328c76b4-1264-4de8-8779-b633bece6477",
   "metadata": {},
   "source": [
    "ARC course \"Coding with Python\" (Intermediate level)\n",
    "====================================================\n",
    "![icons8-python-48.png](attachment:4bc4187b-d7a8-40d7-9b9b-e39c975e84a1.png)"
   ]
  },
  {
   "cell_type": "markdown",
   "id": "2a805c89-f13d-4bbb-8697-7a174fc9b204",
   "metadata": {},
   "source": [
    "Welcome to our ARC course \"Coding with Python\" (Intermediate level).\n",
    "\n",
    "Some general information on how the course will run:\n",
    "\n",
    "* The course will run for three hours from 10.00 to 13.00. We plan a coffee break between 2 parts at around 11:30 for ~10-15 min.\n",
    "\n",
    "* This material builds upon the knowledge acquired in the previous Beginner level course.\n",
    "\n",
    "* Each topic will be presented wih code demonstrations followed by practical exercises.\n",
    "\n",
    "* We are happy to answer any questions during the course and to help during the exercises.\n",
    "\n",
    "Upon completion of the course, please, don't forget to scan the activity QR code to record your attendance.\n",
    "\n",
    "Enjoy coding with Python!"
   ]
  },
  {
   "cell_type": "markdown",
   "id": "1c862dea-54c2-4c98-bef3-3629fd16df06",
   "metadata": {},
   "source": [
    "# <ins>Table of Contents</ins>"
   ]
  },
  {
   "cell_type": "markdown",
   "id": "c10de292-d0db-47ac-87fe-6fc47239159f",
   "metadata": {},
   "source": [
    "  - [0. Introduction](#0.-Introduction)\n",
    "    - [Course objectives](#Course-objectives)\n",
    "    - [Useful resources](#Useful-resources)\n",
    "    - [Set up your Python environment](#Set-up-your-Python-environment)\n",
    "- [Part I](#Part-I)\n",
    "  - [1. Recap](#1.-Recap)\n",
    "  - [2. Pythonic concepts](#2.-Pythonic-concepts)\n",
    "  - [3. Advanced string manipulation](#3.-Advanced-string-manipulation)\n",
    "- [Part II](#Part-II)\n",
    "  - [4. Introduction to libraries and modules](#4.-Introduction-to-libraries-and-modules)\n",
    "  - [5. Data structures and containers](#5.-Data-structures-and-containers)\n",
    "  - [6. Brief introduction to classes](#6.-Brief-introduction-to-classes)"
   ]
  },
  {
   "cell_type": "markdown",
   "id": "619cb030-fd5d-469a-a6dd-1bd96cc74c3a",
   "metadata": {},
   "source": [
    "# <ins>0.</ins> Introduction"
   ]
  },
  {
   "cell_type": "markdown",
   "id": "1c719f86-479a-4051-aef9-ae6b0408e835",
   "metadata": {
    "editable": true,
    "jp-MarkdownHeadingCollapsed": true,
    "slideshow": {
     "slide_type": "slide"
    },
    "tags": []
   },
   "source": [
    "## Course objectives"
   ]
  },
  {
   "cell_type": "markdown",
   "id": "d165cc15-2a07-44fc-8028-93d0248ff14f",
   "metadata": {},
   "source": [
    "[TBD]"
   ]
  },
  {
   "cell_type": "markdown",
   "id": "7f6b8f80-4c65-4630-af25-2855b16b5f25",
   "metadata": {
    "editable": true,
    "jp-MarkdownHeadingCollapsed": true,
    "slideshow": {
     "slide_type": "slide"
    },
    "tags": []
   },
   "source": [
    "## Useful resources"
   ]
  },
  {
   "cell_type": "markdown",
   "id": "babdb9d9-b120-4e97-9729-4d87ccb862d0",
   "metadata": {},
   "source": [
    "[TBD]"
   ]
  },
  {
   "cell_type": "markdown",
   "id": "77bfa57e-7790-4683-91fd-6189a99c6c8e",
   "metadata": {
    "editable": true,
    "slideshow": {
     "slide_type": "slide"
    },
    "tags": []
   },
   "source": [
    "## Set up your Python environment"
   ]
  },
  {
   "cell_type": "markdown",
   "id": "0554114a-42c2-44c5-a1ab-f631ad1f4cd1",
   "metadata": {},
   "source": [
    "<ins>Option 1</ins>: Jupyter Notebook server set up by Daniel Maitre from the Physics department \n",
    " - log in with you CIS account; loading process can take some time:\n",
    " - https://notebooks.dmaitre.phyip3.dur.ac.uk/arc\n",
    "\n",
    "<ins>Option 2</ins>: Local Python environment `python` or enhanced one `ipython`\n",
    "\n",
    "<ins>Option 3</ins>: Google Colab (https://colab.research.google.com)."
   ]
  },
  {
   "cell_type": "code",
   "execution_count": null,
   "id": "5c010627-bfbb-46d6-9eac-d69a699a17c3",
   "metadata": {},
   "outputs": [],
   "source": [
    "reset"
   ]
  },
  {
   "cell_type": "code",
   "execution_count": null,
   "id": "2d1efdba-3807-4410-80c3-40f3371c5e1b",
   "metadata": {
    "editable": true,
    "scrolled": true,
    "slideshow": {
     "slide_type": "skip"
    },
    "tags": []
   },
   "outputs": [],
   "source": [
    "from IPython.display import display, HTML\n",
    "display(HTML(\"<style>.jp-Cell { width: 100% !important; margin: 0 auto; }</style>\"))"
   ]
  },
  {
   "cell_type": "markdown",
   "id": "0e74f613-f40d-4581-b47c-ce00d37978d9",
   "metadata": {
    "editable": false,
    "jp-MarkdownHeadingCollapsed": true,
    "slideshow": {
     "slide_type": "slide"
    },
    "tags": []
   },
   "source": [
    "### Installation steps for JupyterLab\n",
    "\n",
    "Setting up a conda environment for this document\n",
    "\n",
    "```\n",
    "conda create -n python_intermediate -c conda-forge jupyter jupyterlab\n",
    "```\n",
    "\n",
    "then start normally via local JupyterLab by calling `jupyter lab`"
   ]
  },
  {
   "cell_type": "markdown",
   "id": "0fdcc824-000d-4821-a2b4-9cffbbcfb497",
   "metadata": {
    "editable": true,
    "slideshow": {
     "slide_type": "skip"
    },
    "tags": []
   },
   "source": [
    "Convert to pdf.\n",
    "\n",
    "Run cells you want to run\n",
    "Be sure to save\n",
    "Call `jupyter nbconvert --to slides --post serve ./Intermediate_examples.ipynb`\n",
    "Go to [](http://localhost:8000/Basics.slides.html?print-pdf#/\n",
    "Print via Print to PDF function of your browser"
   ]
  },
  {
   "cell_type": "markdown",
   "id": "2cae5ba8-b56e-4d50-9e43-0bf5ea088bcb",
   "metadata": {
    "jp-MarkdownHeadingCollapsed": true
   },
   "source": [
    "# <ins>**Part I**</ins>"
   ]
  },
  {
   "cell_type": "markdown",
   "id": "0e5eae46-3d33-44df-affc-538d926382bc",
   "metadata": {
    "editable": true,
    "slideshow": {
     "slide_type": "slide"
    },
    "tags": []
   },
   "source": [
    "# <ins>1.</ins> Recap\n",
    "[TBD] to move a part to the Basic course and to reduce the Recap section drastically\n",
    "* variables, values, types, type conversion;\n",
    "* user input"
   ]
  },
  {
   "cell_type": "markdown",
   "id": "acfa44b3-d2a6-4b87-9d60-712164cc2c09",
   "metadata": {
    "editable": true,
    "slideshow": {
     "slide_type": "subslide"
    },
    "tags": []
   },
   "source": [
    "## data type: integer numbers"
   ]
  },
  {
   "cell_type": "raw",
   "id": "81a58acc-1c59-4979-b8a7-6d9dba0f512b",
   "metadata": {
    "editable": true,
    "raw_mimetype": "",
    "slideshow": {
     "slide_type": "notes"
    },
    "tags": []
   },
   "source": [
    "The interactive shell attempts to evaluate both expressions and statements. The shell executes what is commonly called the _read_, _eval_, _print loop_.\n",
    "\n",
    "* an example of a _numeric_ value, _integer_ value;\n",
    "* an integer _expression_, a basic building block of a Python _statement_;\n",
    "* normal arithmetic addition"
   ]
  },
  {
   "cell_type": "code",
   "execution_count": null,
   "id": "85732409-2839-40ae-8c31-d7a193824688",
   "metadata": {
    "editable": true,
    "slideshow": {
     "slide_type": "fragment"
    },
    "tags": []
   },
   "outputs": [],
   "source": [
    "4"
   ]
  },
  {
   "cell_type": "code",
   "execution_count": null,
   "id": "13972a7d-1c13-4637-9d24-60c68c518de9",
   "metadata": {
    "editable": true,
    "slideshow": {
     "slide_type": "fragment"
    },
    "tags": []
   },
   "outputs": [],
   "source": [
    "1 + 2 + 4 + 10 - 3 * 6"
   ]
  },
  {
   "cell_type": "code",
   "execution_count": null,
   "id": "14863590-dd43-4765-98da-a74f5895a4a9",
   "metadata": {
    "editable": true,
    "slideshow": {
     "slide_type": "fragment"
    },
    "tags": []
   },
   "outputs": [],
   "source": [
    "print(5)"
   ]
  },
  {
   "cell_type": "code",
   "execution_count": null,
   "id": "456c113d-65a8-4997-907f-c15c70471ca4",
   "metadata": {
    "editable": true,
    "slideshow": {
     "slide_type": ""
    },
    "tags": []
   },
   "outputs": [],
   "source": [
    "type(5)"
   ]
  },
  {
   "cell_type": "markdown",
   "id": "884e8dbf-60da-4ec0-94e7-3af4f2ddc505",
   "metadata": {
    "editable": true,
    "slideshow": {
     "slide_type": "fragment"
    },
    "tags": []
   },
   "source": [
    " "
   ]
  },
  {
   "cell_type": "markdown",
   "id": "8930163d-c816-4b93-b6f1-9131560ffbde",
   "metadata": {
    "editable": true,
    "jp-MarkdownHeadingCollapsed": true,
    "slideshow": {
     "slide_type": "subslide"
    },
    "tags": []
   },
   "source": [
    "## data type: floating-point numbers"
   ]
  },
  {
   "cell_type": "code",
   "execution_count": null,
   "id": "5ede41a6-11b4-4055-979e-b350cd86baeb",
   "metadata": {
    "editable": true,
    "slideshow": {
     "slide_type": "fragment"
    },
    "tags": []
   },
   "outputs": [],
   "source": [
    "x = 5.62\n",
    "x"
   ]
  },
  {
   "cell_type": "code",
   "execution_count": null,
   "id": "e22aab67-2d3f-4815-9a19-475256f03c5b",
   "metadata": {
    "editable": true,
    "slideshow": {
     "slide_type": "fragment"
    },
    "tags": []
   },
   "outputs": [],
   "source": [
    "type(x)"
   ]
  },
  {
   "cell_type": "markdown",
   "id": "2b24c0f5-329d-44cf-9250-52e8d6e78c4c",
   "metadata": {
    "editable": true,
    "slideshow": {
     "slide_type": "fragment"
    },
    "tags": []
   },
   "source": [
    "| Title | Storage | Smallest Magnitude | Largest Magnitude | Minimum Precision |\n",
    "|-------|---------|--------------------|-------------------|-------------------|\n",
    "| float | 64 bits | 2.22507 × 10e−308  | 1.79769 × 10+308  | 15 digits         |"
   ]
  },
  {
   "cell_type": "code",
   "execution_count": null,
   "id": "25bf53cd-5843-4341-bdef-6f17855e01bf",
   "metadata": {
    "editable": true,
    "slideshow": {
     "slide_type": "fragment"
    },
    "tags": []
   },
   "outputs": [],
   "source": [
    "pi = 3.14159\n",
    "print(\"Pi =\", pi)\n",
    "print(\"or\", 3.14, \"for short\")"
   ]
  },
  {
   "cell_type": "code",
   "execution_count": null,
   "id": "e7bb360e-6c77-4d35-b52b-84d511fbaf4c",
   "metadata": {
    "editable": true,
    "slideshow": {
     "slide_type": "fragment"
    },
    "tags": []
   },
   "outputs": [],
   "source": [
    "x = 23.3123400654033989\n",
    "x"
   ]
  },
  {
   "cell_type": "markdown",
   "id": "844666e0-bbe0-4639-afc9-6ba583810a60",
   "metadata": {
    "editable": true,
    "slideshow": {
     "slide_type": "fragment"
    },
    "tags": []
   },
   "source": [
    "scientific notation"
   ]
  },
  {
   "cell_type": "code",
   "execution_count": null,
   "id": "b9b3239d-27c4-4470-8009-20457a9f2294",
   "metadata": {
    "editable": true,
    "slideshow": {
     "slide_type": "fragment"
    },
    "tags": []
   },
   "outputs": [],
   "source": [
    "avogadros_number = 6.022e23\n",
    "c = 2.998e8\n",
    "print(\"Avogadro's number =\", avogadros_number)\n",
    "print(\"Speed of light =\", c)"
   ]
  },
  {
   "cell_type": "markdown",
   "id": "2b9a526f-9a7e-4848-8f68-cc9545fd064e",
   "metadata": {
    "editable": true,
    "slideshow": {
     "slide_type": "fragment"
    },
    "tags": []
   },
   "source": [
    " "
   ]
  },
  {
   "cell_type": "markdown",
   "id": "d3206c94-0d35-4cc1-a587-08d3e94ce1b4",
   "metadata": {
    "editable": true,
    "jp-MarkdownHeadingCollapsed": true,
    "slideshow": {
     "slide_type": "subslide"
    },
    "tags": []
   },
   "source": [
    "## data type: strings"
   ]
  },
  {
   "cell_type": "raw",
   "id": "65e9bfff-e072-4f10-b496-63385de53542",
   "metadata": {
    "editable": true,
    "raw_mimetype": "text/markdown",
    "slideshow": {
     "slide_type": "notes"
    },
    "tags": []
   },
   "source": [
    "* A _string_ is a sequence of characters.\n",
    "* single quotes (') and double quotes (\")"
   ]
  },
  {
   "cell_type": "code",
   "execution_count": null,
   "id": "83748356-278b-4d52-8499-38a05db8f303",
   "metadata": {
    "editable": true,
    "slideshow": {
     "slide_type": "fragment"
    },
    "tags": []
   },
   "outputs": [],
   "source": [
    "\"19\""
   ]
  },
  {
   "cell_type": "code",
   "execution_count": null,
   "id": "9c236a84-b54f-4132-a1ff-82a2c35743fe",
   "metadata": {
    "editable": true,
    "slideshow": {
     "slide_type": "fragment"
    },
    "tags": []
   },
   "outputs": [],
   "source": [
    "\"Fred\""
   ]
  },
  {
   "cell_type": "code",
   "execution_count": null,
   "id": "23ca1bb9-ea94-48ba-b126-3c8eeafc42d1",
   "metadata": {
    "editable": true,
    "slideshow": {
     "slide_type": "fragment"
    },
    "tags": []
   },
   "outputs": [],
   "source": [
    "'Fred'"
   ]
  },
  {
   "cell_type": "code",
   "execution_count": null,
   "id": "11f6e6f7-bd61-4530-95e9-da1d9dc5b972",
   "metadata": {
    "editable": true,
    "slideshow": {
     "slide_type": ""
    },
    "tags": []
   },
   "outputs": [],
   "source": [
    "type('Fred')"
   ]
  },
  {
   "cell_type": "markdown",
   "id": "b3c8c87b-abce-48bf-80e1-2e7778c84445",
   "metadata": {
    "editable": true,
    "slideshow": {
     "slide_type": "fragment"
    },
    "tags": []
   },
   "source": [
    " "
   ]
  },
  {
   "cell_type": "markdown",
   "id": "8eaa09b4-015f-4dc4-9f12-6d53e65785dc",
   "metadata": {
    "editable": true,
    "jp-MarkdownHeadingCollapsed": true,
    "slideshow": {
     "slide_type": "subslide"
    },
    "tags": []
   },
   "source": [
    "## data type: boolean expressions"
   ]
  },
  {
   "cell_type": "code",
   "execution_count": null,
   "id": "0a45dbcd-f833-4ea6-96be-2dfee2f7fb7b",
   "metadata": {
    "editable": true,
    "slideshow": {
     "slide_type": "fragment"
    },
    "tags": []
   },
   "outputs": [],
   "source": [
    "True"
   ]
  },
  {
   "cell_type": "code",
   "execution_count": null,
   "id": "c1a4eeba-e3ca-4c80-88bc-26c884458891",
   "metadata": {
    "editable": true,
    "slideshow": {
     "slide_type": "fragment"
    },
    "tags": []
   },
   "outputs": [],
   "source": [
    "False"
   ]
  },
  {
   "cell_type": "code",
   "execution_count": null,
   "id": "6aa37f13-3fd5-4635-acdb-eb2328dbbdf8",
   "metadata": {
    "editable": true,
    "slideshow": {
     "slide_type": "fragment"
    },
    "tags": []
   },
   "outputs": [],
   "source": [
    "type(True)"
   ]
  },
  {
   "cell_type": "markdown",
   "id": "b43197ae-493d-4e39-93c3-6650b15bbef9",
   "metadata": {
    "editable": true,
    "slideshow": {
     "slide_type": ""
    },
    "tags": []
   },
   "source": [
    " "
   ]
  },
  {
   "cell_type": "markdown",
   "id": "0ee005ab-04c3-4ed9-a518-2ff92d947e13",
   "metadata": {
    "editable": true,
    "jp-MarkdownHeadingCollapsed": true,
    "slideshow": {
     "slide_type": "subslide"
    },
    "tags": []
   },
   "source": [
    "## built-in functions, operators, type conversion"
   ]
  },
  {
   "cell_type": "raw",
   "id": "960eddcd-42b6-4c8d-bc31-547f330bdffc",
   "metadata": {
    "editable": true,
    "raw_mimetype": "",
    "slideshow": {
     "slide_type": "notes"
    },
    "tags": []
   },
   "source": [
    "* An integer and string expressions.\n",
    "* All expressions in Python have a _type_.\n",
    "* An expression’s type is sometimes denoted as its _class_.\n",
    "* The built-in functions `print`, `type`, `int` and `str`"
   ]
  },
  {
   "cell_type": "code",
   "execution_count": null,
   "id": "49736ac5-1e99-449c-a9c8-c74e271b2b6e",
   "metadata": {
    "editable": true,
    "slideshow": {
     "slide_type": "fragment"
    },
    "tags": []
   },
   "outputs": [],
   "source": [
    "print(8.12)"
   ]
  },
  {
   "cell_type": "code",
   "execution_count": null,
   "id": "dd3a68ae-1463-44fe-bd31-6527df4ac026",
   "metadata": {
    "editable": true,
    "slideshow": {
     "slide_type": "fragment"
    },
    "tags": []
   },
   "outputs": [],
   "source": [
    "print('ABC')"
   ]
  },
  {
   "cell_type": "code",
   "execution_count": null,
   "id": "be3a7c9b-517f-4f3f-8d93-b2f1c912b528",
   "metadata": {
    "editable": true,
    "slideshow": {
     "slide_type": "fragment"
    },
    "tags": []
   },
   "outputs": [],
   "source": [
    "type(4)"
   ]
  },
  {
   "cell_type": "code",
   "execution_count": null,
   "id": "7e055b58-dd2b-4103-8dd4-8bd70ca7061f",
   "metadata": {
    "editable": true,
    "slideshow": {
     "slide_type": "fragment"
    },
    "tags": []
   },
   "outputs": [],
   "source": [
    "type('4')"
   ]
  },
  {
   "cell_type": "code",
   "execution_count": null,
   "id": "a061f9d8-829b-41aa-bfa8-8678f2487302",
   "metadata": {
    "editable": true,
    "slideshow": {
     "slide_type": "fragment"
    },
    "tags": []
   },
   "outputs": [],
   "source": [
    "str(4)"
   ]
  },
  {
   "cell_type": "code",
   "execution_count": null,
   "id": "99bce1d8-44d3-4f69-80ec-6dac696bdfca",
   "metadata": {
    "editable": true,
    "slideshow": {
     "slide_type": "fragment"
    },
    "tags": []
   },
   "outputs": [],
   "source": [
    "int('5')"
   ]
  },
  {
   "cell_type": "code",
   "execution_count": null,
   "id": "4a1278ab-3f8d-46c0-85a0-bac33d55bc99",
   "metadata": {
    "editable": true,
    "slideshow": {
     "slide_type": "fragment"
    },
    "tags": []
   },
   "outputs": [],
   "source": [
    "int(4)"
   ]
  },
  {
   "cell_type": "code",
   "execution_count": null,
   "id": "1b1dc35f-bd40-4b46-b940-3830442ee652",
   "metadata": {
    "editable": true,
    "slideshow": {
     "slide_type": "fragment"
    },
    "tags": []
   },
   "outputs": [],
   "source": [
    "str('Judy')"
   ]
  },
  {
   "cell_type": "code",
   "execution_count": null,
   "id": "844d099e-dcbc-43a2-a43f-17953ce9bcb7",
   "metadata": {
    "editable": true,
    "slideshow": {
     "slide_type": "fragment"
    },
    "tags": []
   },
   "outputs": [],
   "source": [
    "int('wow')"
   ]
  },
  {
   "cell_type": "code",
   "execution_count": null,
   "id": "c7cebd05-57d9-417b-bcf9-0accfb53cdeb",
   "metadata": {
    "editable": true,
    "slideshow": {
     "slide_type": "fragment"
    },
    "tags": []
   },
   "outputs": [],
   "source": [
    "int('3.4')"
   ]
  },
  {
   "cell_type": "code",
   "execution_count": null,
   "id": "fe02f5ad-4692-46a3-a44b-aa07695bf448",
   "metadata": {
    "editable": true,
    "slideshow": {
     "slide_type": "fragment"
    },
    "tags": []
   },
   "outputs": [],
   "source": [
    "5 + 10"
   ]
  },
  {
   "cell_type": "code",
   "execution_count": null,
   "id": "1d86c2ed-1a23-4f59-b177-c03d60f44be4",
   "metadata": {
    "editable": true,
    "slideshow": {
     "slide_type": "fragment"
    },
    "tags": []
   },
   "outputs": [],
   "source": [
    "'5' + '10'"
   ]
  },
  {
   "cell_type": "code",
   "execution_count": null,
   "id": "a27cdf88-33de-49fa-bb7d-87629e7155fa",
   "metadata": {
    "editable": true,
    "slideshow": {
     "slide_type": "fragment"
    },
    "tags": []
   },
   "outputs": [],
   "source": [
    "'abc' + 'xyz'"
   ]
  },
  {
   "cell_type": "code",
   "execution_count": null,
   "id": "01cb778a-edef-44f4-b757-062a9c6e93af",
   "metadata": {
    "editable": true,
    "slideshow": {
     "slide_type": "fragment"
    },
    "tags": []
   },
   "outputs": [],
   "source": [
    "'5' + 10"
   ]
  },
  {
   "cell_type": "code",
   "execution_count": null,
   "id": "c81e5dc3-8478-459d-becf-ed5fa13ddc2c",
   "metadata": {
    "editable": true,
    "slideshow": {
     "slide_type": "fragment"
    },
    "tags": []
   },
   "outputs": [],
   "source": [
    "5 + '10'"
   ]
  },
  {
   "cell_type": "code",
   "execution_count": null,
   "id": "49db8566-f63f-4a1a-9312-c096a230e7e5",
   "metadata": {
    "editable": true,
    "slideshow": {
     "slide_type": "fragment"
    },
    "tags": []
   },
   "outputs": [],
   "source": [
    "5 + int('10')"
   ]
  },
  {
   "cell_type": "code",
   "execution_count": null,
   "id": "2c6f7bf5-b3fb-44d2-9b88-722d03b6e9f5",
   "metadata": {
    "editable": true,
    "slideshow": {
     "slide_type": "fragment"
    },
    "tags": []
   },
   "outputs": [],
   "source": [
    "'5' + str(10)"
   ]
  },
  {
   "cell_type": "code",
   "execution_count": null,
   "id": "0a893a09-1d4e-4d44-a161-671af0633183",
   "metadata": {
    "editable": true,
    "slideshow": {
     "slide_type": "fragment"
    },
    "tags": []
   },
   "outputs": [],
   "source": [
    "type('4' + '7')"
   ]
  },
  {
   "cell_type": "code",
   "execution_count": null,
   "id": "0aeba9d3-7069-4433-9e7c-0b6da51d28c7",
   "metadata": {
    "editable": true,
    "slideshow": {
     "slide_type": "fragment"
    },
    "tags": []
   },
   "outputs": [],
   "source": [
    "type(int('3') + int(4))"
   ]
  },
  {
   "cell_type": "markdown",
   "id": "25d0b6de-dbb0-4e7e-8d0e-7f33ff6c59aa",
   "metadata": {
    "editable": true,
    "slideshow": {
     "slide_type": "fragment"
    },
    "tags": []
   },
   "source": [
    " "
   ]
  },
  {
   "cell_type": "markdown",
   "id": "b9513295-7be5-4f88-867a-68b76cc95bac",
   "metadata": {
    "editable": true,
    "jp-MarkdownHeadingCollapsed": true,
    "slideshow": {
     "slide_type": "subslide"
    },
    "tags": []
   },
   "source": [
    "## assignment statement"
   ]
  },
  {
   "cell_type": "raw",
   "id": "8411cc8a-13c3-445a-ad1b-80676c8e983e",
   "metadata": {
    "editable": true,
    "raw_mimetype": "",
    "slideshow": {
     "slide_type": "notes"
    },
    "tags": []
   },
   "source": [
    "This is an assignment statement. An assignment statement associates a value with a variable. The type of a variable can be changed upon a new assignment."
   ]
  },
  {
   "cell_type": "code",
   "execution_count": null,
   "id": "83bf7d06-41d5-4077-a095-1186116c3420",
   "metadata": {
    "editable": true,
    "slideshow": {
     "slide_type": "fragment"
    },
    "tags": []
   },
   "outputs": [],
   "source": [
    "x = 10\n",
    "print('x = ' + str(x))\n",
    "x = 20\n",
    "print('x = ' + str(x))\n",
    "x = 30\n",
    "print('x = ' + str(x))"
   ]
  },
  {
   "cell_type": "code",
   "execution_count": null,
   "id": "ba93c843-ae99-4587-9536-78e324486c4c",
   "metadata": {
    "editable": true,
    "slideshow": {
     "slide_type": "fragment"
    },
    "tags": []
   },
   "outputs": [],
   "source": [
    "x = 10\n",
    "print('x =', x)\n",
    "x = 20\n",
    "print('x =', x)\n",
    "x = 30\n",
    "print('x =', x)"
   ]
  },
  {
   "cell_type": "code",
   "execution_count": null,
   "id": "3c7c6387-493b-4d63-a6ea-eeaacaf1191e",
   "metadata": {
    "editable": true,
    "slideshow": {
     "slide_type": "fragment"
    },
    "tags": []
   },
   "outputs": [],
   "source": [
    "a = 10\n",
    "print('First, variable a has value', a, 'and type', type(a))\n",
    "a = 'ABC'\n",
    "print('Now, variable a has value', a, 'and type', type(a))"
   ]
  },
  {
   "cell_type": "markdown",
   "id": "b6e3c8af-16a0-409b-8776-d65a4c833413",
   "metadata": {
    "editable": true,
    "slideshow": {
     "slide_type": "fragment"
    },
    "tags": []
   },
   "source": [
    " "
   ]
  },
  {
   "cell_type": "markdown",
   "id": "7fd698dc-cc26-438b-a18b-94967589da36",
   "metadata": {
    "editable": true,
    "jp-MarkdownHeadingCollapsed": true,
    "slideshow": {
     "slide_type": "subslide"
    },
    "tags": []
   },
   "source": [
    "## tuple assignment"
   ]
  },
  {
   "cell_type": "raw",
   "id": "5326a57c-0130-495b-a389-f18a863d87e0",
   "metadata": {
    "editable": true,
    "raw_mimetype": "",
    "slideshow": {
     "slide_type": "notes"
    },
    "tags": []
   },
   "source": [
    "* comma-separated list\n",
    "* A tuple is a comma-separated list of expressions"
   ]
  },
  {
   "cell_type": "code",
   "execution_count": null,
   "id": "440ae6e5-fb1b-49c3-9195-41ed4a5b3512",
   "metadata": {
    "editable": true,
    "slideshow": {
     "slide_type": "fragment"
    },
    "tags": []
   },
   "outputs": [],
   "source": [
    "x, y, z = 100, -45, 0\n",
    "print('x =', x, ' y =', y, ' z =', z)"
   ]
  },
  {
   "cell_type": "code",
   "execution_count": null,
   "id": "b4a3c03b-7e73-47d8-8051-753990505d8b",
   "metadata": {
    "editable": true,
    "slideshow": {
     "slide_type": "fragment"
    },
    "tags": []
   },
   "outputs": [],
   "source": [
    "x, y, z = 45, 3"
   ]
  },
  {
   "cell_type": "code",
   "execution_count": null,
   "id": "e8b20325-7faf-4d64-b2d8-db71e780217f",
   "metadata": {
    "editable": true,
    "slideshow": {
     "slide_type": "fragment"
    },
    "tags": []
   },
   "outputs": [],
   "source": [
    "x, y, z = 45, 3, 23, 8"
   ]
  },
  {
   "cell_type": "markdown",
   "id": "3dd5bc6f-6c5a-4922-a37a-c6ff06341f20",
   "metadata": {
    "editable": true,
    "slideshow": {
     "slide_type": "fragment"
    },
    "tags": []
   },
   "source": [
    " "
   ]
  },
  {
   "cell_type": "markdown",
   "id": "66e683bf-12f3-4125-af7c-e2b3d4e0de88",
   "metadata": {
    "editable": true,
    "jp-MarkdownHeadingCollapsed": true,
    "slideshow": {
     "slide_type": "subslide"
    },
    "tags": []
   },
   "source": [
    "## undefined variable or unbound variable"
   ]
  },
  {
   "cell_type": "raw",
   "id": "da9f4e3d-fef1-46bb-bbb1-f10b1060d0d4",
   "metadata": {
    "editable": true,
    "raw_mimetype": "",
    "slideshow": {
     "slide_type": "notes"
    },
    "tags": []
   },
   "source": [
    "* The del statement"
   ]
  },
  {
   "cell_type": "code",
   "execution_count": null,
   "id": "17b8910a-6558-4002-a1c9-10ac46d2655e",
   "metadata": {
    "editable": true,
    "slideshow": {
     "slide_type": "fragment"
    },
    "tags": []
   },
   "outputs": [],
   "source": [
    "x = 2\n",
    "x\n",
    "y"
   ]
  },
  {
   "cell_type": "code",
   "execution_count": null,
   "id": "c4aa98ac-4128-4df5-939f-b6273cfae7c0",
   "metadata": {
    "editable": true,
    "slideshow": {
     "slide_type": "fragment"
    },
    "tags": []
   },
   "outputs": [],
   "source": [
    "del x\n",
    "x"
   ]
  },
  {
   "cell_type": "code",
   "execution_count": null,
   "id": "3fbe5438-74a4-4ce5-84f4-bfe0f416941c",
   "metadata": {
    "editable": true,
    "slideshow": {
     "slide_type": "fragment"
    },
    "tags": []
   },
   "outputs": [],
   "source": [
    "a = 0\n",
    "b = 1\n",
    "c = 2\n",
    "del a, b, c"
   ]
  },
  {
   "cell_type": "markdown",
   "id": "aeb3c7b0-fabe-4491-9d22-41d28f8ad1f3",
   "metadata": {
    "editable": true,
    "slideshow": {
     "slide_type": "fragment"
    },
    "tags": []
   },
   "source": [
    " "
   ]
  },
  {
   "cell_type": "markdown",
   "id": "7a8a8611-ebb4-430d-b8d7-2fbe9219b45c",
   "metadata": {
    "editable": true,
    "jp-MarkdownHeadingCollapsed": true,
    "slideshow": {
     "slide_type": "subslide"
    },
    "tags": []
   },
   "source": [
    "## identifiers"
   ]
  },
  {
   "cell_type": "markdown",
   "id": "480f6390-e15f-4c3a-9cb4-1bfe1c2060e5",
   "metadata": {
    "editable": true,
    "slideshow": {
     "slide_type": "fragment"
    },
    "tags": []
   },
   "source": [
    "An _identifier_ is a word used to name things. Identifiers name variables, functions, classes, and methods.\n",
    "* An identifiers must contain at least one character.\n",
    "* The first character of an identifiers must be an alphabetic letter (upper or lower case) or the underscore.\n",
    "* The remaining characters (if any) may be alphabetic characters (upper or lower case), the underscore, or a digit.\n",
    "* No other characters (including spaces) are permitted in identifiers.\n",
    "* A reserved word cannot be used as an identifier.\n",
    "\n",
    "Examples:\n",
    "* `x`, `x2`, `total`, `port_22`, `FLAG`.\n",
    "\n",
    "None of the following words are valid identifiers:\n",
    "* `sub-total`, `first entry`, `4all`, `*2`, `class`."
   ]
  },
  {
   "cell_type": "code",
   "execution_count": null,
   "id": "929923e7-7a68-4b0c-8dde-d5eb4bde4dce",
   "metadata": {
    "editable": true,
    "slideshow": {
     "slide_type": "fragment"
    },
    "tags": []
   },
   "outputs": [],
   "source": [
    "class = 15"
   ]
  },
  {
   "cell_type": "code",
   "execution_count": null,
   "id": "5bb1b309-20fd-4ae5-8f31-ce70a0605927",
   "metadata": {
    "editable": true,
    "slideshow": {
     "slide_type": "fragment"
    },
    "tags": []
   },
   "outputs": [],
   "source": [
    "print('Our good friend print')\n",
    "print\n",
    "type(print)\n",
    "my_print = print\n",
    "print = 77\n",
    "my_print(print)\n",
    "my_print('hello from my_print!')\n",
    "type(my_print)\n",
    "print = my_print\n",
    "print('Our good friend print again')"
   ]
  },
  {
   "cell_type": "markdown",
   "id": "0844f58f-f780-4555-84ab-a8ed69f73aa2",
   "metadata": {
    "editable": true,
    "slideshow": {
     "slide_type": "fragment"
    },
    "tags": []
   },
   "source": [
    " "
   ]
  },
  {
   "cell_type": "markdown",
   "id": "53ceb470-2933-43d9-ad34-6296d6b3c5df",
   "metadata": {
    "editable": true,
    "jp-MarkdownHeadingCollapsed": true,
    "slideshow": {
     "slide_type": "subslide"
    },
    "tags": []
   },
   "source": [
    "## reserved words"
   ]
  },
  {
   "cell_type": "markdown",
   "id": "1df39a40-5581-4b18-a264-5cf21895f730",
   "metadata": {
    "editable": true,
    "slideshow": {
     "slide_type": "fragment"
    },
    "tags": []
   },
   "source": [
    "**Python keywords**\n",
    "\n",
    "and as assert break class continue def del elif else except False finally for from global if import in is lambda None nonlocal not or pass raise return try True while with yield"
   ]
  },
  {
   "cell_type": "markdown",
   "id": "c2254249-87f2-4899-bbfa-bac5b054f4a7",
   "metadata": {
    "editable": true,
    "slideshow": {
     "slide_type": "fragment"
    },
    "tags": []
   },
   "source": [
    " "
   ]
  },
  {
   "cell_type": "markdown",
   "id": "1c980961-1d28-4513-afb2-09726c076b50",
   "metadata": {
    "editable": true,
    "jp-MarkdownHeadingCollapsed": true,
    "slideshow": {
     "slide_type": "subslide"
    },
    "tags": []
   },
   "source": [
    "## user input"
   ]
  },
  {
   "cell_type": "code",
   "execution_count": null,
   "id": "b894a5ed-4ebf-430f-8c5e-8446ee795822",
   "metadata": {
    "editable": true,
    "slideshow": {
     "slide_type": "fragment"
    },
    "tags": []
   },
   "outputs": [],
   "source": [
    "print('Please enter some text:')\n",
    "x = input()\n",
    "print('Text entered:', x)\n",
    "print('Type:', type(x))"
   ]
  },
  {
   "cell_type": "code",
   "execution_count": null,
   "id": "29e298a8-b798-4bcf-ae23-fb02c5498429",
   "metadata": {
    "editable": true,
    "slideshow": {
     "slide_type": "fragment"
    },
    "tags": []
   },
   "outputs": [],
   "source": [
    "num1 = int(input('Please enter an integer value: '))\n",
    "num2 = int(input('Please enter another integer value: '))\n",
    "print(num1, '+', num2, '=', num1 + num2)"
   ]
  },
  {
   "cell_type": "code",
   "execution_count": null,
   "id": "d1287969-b340-48ad-ba31-0447b2af0002",
   "metadata": {
    "editable": true,
    "slideshow": {
     "slide_type": "fragment"
    },
    "tags": []
   },
   "outputs": [],
   "source": [
    "int(3.4)"
   ]
  },
  {
   "cell_type": "code",
   "execution_count": null,
   "id": "8a0459d1-3373-416e-a1d7-3ba68c7e9a49",
   "metadata": {
    "editable": true,
    "slideshow": {
     "slide_type": "fragment"
    },
    "tags": []
   },
   "outputs": [],
   "source": [
    "int('3.4')"
   ]
  },
  {
   "cell_type": "code",
   "execution_count": null,
   "id": "36b1fe8d-ce7c-4a9e-9b7b-8db79998323d",
   "metadata": {
    "editable": true,
    "slideshow": {
     "slide_type": "fragment"
    },
    "tags": []
   },
   "outputs": [],
   "source": [
    "num = int(float(input('Please enter a number: ')))\n",
    "print(num)"
   ]
  },
  {
   "cell_type": "code",
   "execution_count": null,
   "id": "61fc6ef2-1555-4f00-b7a3-8a2a0e9a1405",
   "metadata": {
    "editable": true,
    "slideshow": {
     "slide_type": "fragment"
    },
    "tags": []
   },
   "outputs": [],
   "source": [
    "num = round(float(input('Please enter a number: ')))\n",
    "print(num+3)"
   ]
  },
  {
   "cell_type": "markdown",
   "id": "ada8bb5c-3f1b-4bea-969e-203e00e38fe9",
   "metadata": {
    "editable": true,
    "slideshow": {
     "slide_type": "slide"
    },
    "tags": []
   },
   "source": [
    "# <ins>2.</ins> Pythonic concepts\n",
    "* list methods, list comprehension, conditional assignments (ternary conditional expressions);\n",
    "* iterators (how control flow are actually implemented);\n",
    "* lambda functions"
   ]
  },
  {
   "cell_type": "markdown",
   "id": "d8ef2140-8430-4a46-b930-e5192193240f",
   "metadata": {
    "editable": true,
    "slideshow": {
     "slide_type": "subslide"
    },
    "tags": []
   },
   "source": [
    "## Lists methods\n",
    "[TBD] move a part of the Lists section to the Basic course"
   ]
  },
  {
   "cell_type": "code",
   "execution_count": null,
   "id": "4a940d99-95b8-4fd5-9652-e09ddce070e5",
   "metadata": {},
   "outputs": [],
   "source": [
    "lst = [1, 3.14, \"Mars\", 'Earth', [1, 2, 3]]"
   ]
  },
  {
   "cell_type": "code",
   "execution_count": null,
   "id": "b15e5da0-3364-44db-b24c-2997b984d0df",
   "metadata": {},
   "outputs": [],
   "source": [
    "print(lst)"
   ]
  },
  {
   "cell_type": "code",
   "execution_count": null,
   "id": "33388d26-0ea7-418e-8ec8-14acfc54219d",
   "metadata": {},
   "outputs": [],
   "source": [
    "for i in lst:\n",
    "    print(i)"
   ]
  },
  {
   "cell_type": "code",
   "execution_count": null,
   "id": "b841ff85-14ef-47a2-8b7c-731b4f1228df",
   "metadata": {},
   "outputs": [],
   "source": [
    "len(lst)"
   ]
  },
  {
   "cell_type": "code",
   "execution_count": null,
   "id": "79a1fca8-5af5-4915-ba31-5e45fa3aab18",
   "metadata": {},
   "outputs": [],
   "source": [
    "lst[0]"
   ]
  },
  {
   "cell_type": "code",
   "execution_count": null,
   "id": "a04e8700-08fe-483c-a3b7-bf475951150e",
   "metadata": {},
   "outputs": [],
   "source": [
    "lst[-1][1]"
   ]
  },
  {
   "cell_type": "code",
   "execution_count": null,
   "id": "7de7582b-4de1-4519-9b4b-da1a8430bce8",
   "metadata": {},
   "outputs": [],
   "source": [
    "if 'Mars' in lst:\n",
    "    print('yes')"
   ]
  },
  {
   "cell_type": "code",
   "execution_count": null,
   "id": "db02ac75-58de-4201-a68d-4172e59fd8c2",
   "metadata": {},
   "outputs": [],
   "source": [
    "lst[0:5:2]"
   ]
  },
  {
   "cell_type": "code",
   "execution_count": null,
   "id": "7c711d36-fe51-4264-baa8-427c27fb56ce",
   "metadata": {},
   "outputs": [],
   "source": [
    "def product(*i):\n",
    "    prod = 1\n",
    "    for j in i:\n",
    "        prod *= j\n",
    "    return prod"
   ]
  },
  {
   "cell_type": "code",
   "execution_count": null,
   "id": "063758ae-40a2-4de1-87e6-d02fef2fd37c",
   "metadata": {},
   "outputs": [],
   "source": [
    "j = product(2,3,4)\n",
    "print(j, sep=' ')"
   ]
  },
  {
   "cell_type": "code",
   "execution_count": null,
   "id": "aa1d8ec1-a5a4-4494-a29b-1974f1e189f5",
   "metadata": {},
   "outputs": [],
   "source": [
    "lst = [j for j in range(10) if j%2]"
   ]
  },
  {
   "cell_type": "code",
   "execution_count": null,
   "id": "3d089e6e-8947-4b26-8676-f729609495ba",
   "metadata": {},
   "outputs": [],
   "source": [
    "lst"
   ]
  },
  {
   "cell_type": "code",
   "execution_count": null,
   "id": "c4318f32-e39a-4bdf-a2f5-6ef9c26d459d",
   "metadata": {},
   "outputs": [],
   "source": [
    "lst = []"
   ]
  },
  {
   "cell_type": "code",
   "execution_count": null,
   "id": "0ee6c40e-dc12-4d8c-8362-b4f0efa2958e",
   "metadata": {},
   "outputs": [],
   "source": [
    "lst"
   ]
  },
  {
   "cell_type": "code",
   "execution_count": null,
   "id": "458d2042-c77c-4584-b41c-12c144b6848f",
   "metadata": {},
   "outputs": [],
   "source": [
    "lst.append('hello')"
   ]
  },
  {
   "cell_type": "code",
   "execution_count": null,
   "id": "08b4305e-5143-4c96-8f83-39b059c67db3",
   "metadata": {},
   "outputs": [],
   "source": [
    "lst"
   ]
  },
  {
   "cell_type": "code",
   "execution_count": null,
   "id": "0e6d9396-8389-4c8a-8d32-82c332e542b9",
   "metadata": {},
   "outputs": [],
   "source": [
    "lst.append('bye')"
   ]
  },
  {
   "cell_type": "code",
   "execution_count": null,
   "id": "604d7b04-df0e-41cb-b2df-91875ef28b78",
   "metadata": {},
   "outputs": [],
   "source": [
    "lst"
   ]
  },
  {
   "cell_type": "code",
   "execution_count": null,
   "id": "4718b004-4eab-4e66-963d-269ca4a53701",
   "metadata": {},
   "outputs": [],
   "source": [
    "import math"
   ]
  },
  {
   "cell_type": "code",
   "execution_count": null,
   "id": "1e81fad3-4136-418c-8ca4-0782725ea3b0",
   "metadata": {},
   "outputs": [],
   "source": [
    "print(math.sqrt(16))"
   ]
  },
  {
   "cell_type": "markdown",
   "id": "1a8ac83d-3976-4a68-8de1-d6283b82165a",
   "metadata": {},
   "source": [
    "## List comprehension"
   ]
  },
  {
   "cell_type": "markdown",
   "id": "bc94678c-c56a-435f-bb86-2d2fabf4beca",
   "metadata": {
    "jp-MarkdownHeadingCollapsed": true
   },
   "source": [
    "## Conditional assignments"
   ]
  },
  {
   "cell_type": "markdown",
   "id": "113bcfec-96fc-41b6-bd05-36cb30e27141",
   "metadata": {
    "jp-MarkdownHeadingCollapsed": true
   },
   "source": [
    "## Iterators beneath control flows"
   ]
  },
  {
   "cell_type": "markdown",
   "id": "0ffd14f4-9256-43f6-ac39-afd6e5340ae3",
   "metadata": {
    "jp-MarkdownHeadingCollapsed": true
   },
   "source": [
    "## Lambda functions"
   ]
  },
  {
   "cell_type": "code",
   "execution_count": null,
   "id": "d78ddac5-c343-460d-bd09-890041aa8eee",
   "metadata": {},
   "outputs": [],
   "source": [
    "def f(x):\n",
    "    return x**2-1"
   ]
  },
  {
   "cell_type": "code",
   "execution_count": null,
   "id": "b98e5f65-a243-4d35-862e-a26682a7917e",
   "metadata": {},
   "outputs": [],
   "source": [
    "def diff2(f, x, h=1E-6):\n",
    "    r = (f(x-h) - 2*f(x) + f(x+h))/float(h*h)\n",
    "    return r"
   ]
  },
  {
   "cell_type": "code",
   "execution_count": null,
   "id": "206f6ea5-bbac-4b88-9ec3-43f18c46252e",
   "metadata": {},
   "outputs": [],
   "source": [
    "df2 = diff2(f, 1.5)"
   ]
  },
  {
   "cell_type": "code",
   "execution_count": null,
   "id": "9fd08397-c756-4415-8ff0-9fc8df5635a2",
   "metadata": {},
   "outputs": [],
   "source": [
    "print(df2)"
   ]
  },
  {
   "cell_type": "code",
   "execution_count": null,
   "id": "4b301465-e654-4a49-8957-8c32ff3d68c4",
   "metadata": {},
   "outputs": [],
   "source": [
    "df2 = diff2(lambda x: x**2-1, 1.5)\n",
    "print(df2)"
   ]
  },
  {
   "cell_type": "markdown",
   "id": "64ff4d71-dfe1-4b7f-a8ef-64ede595aa74",
   "metadata": {},
   "source": [
    "# Have a play!"
   ]
  },
  {
   "cell_type": "markdown",
   "id": "43b3bf25-2da5-43c6-ab86-8884b0199cc0",
   "metadata": {},
   "source": [
    "# <ins>3.</ins> Advanced string manipulation"
   ]
  },
  {
   "cell_type": "markdown",
   "id": "b90024e6-bfdb-4ea9-a4fd-2a2306e8061b",
   "metadata": {},
   "source": [
    "[TBD] to insert from presentation"
   ]
  },
  {
   "cell_type": "markdown",
   "id": "57a8a9df-d38e-4aef-8914-38d6f1cd75ce",
   "metadata": {
    "jp-MarkdownHeadingCollapsed": true
   },
   "source": [
    "# <ins>**Part II**</ins>"
   ]
  },
  {
   "cell_type": "markdown",
   "id": "d737495e-cbda-46a2-9da1-8fd63ec74390",
   "metadata": {},
   "source": [
    "# <ins>4.</ins> Introduction to libraries and modules\n",
    "A _module_ is a single file (or collection of files) that is intended to be imported and used in other Python programs. It can include functions, classes, variables, and runnable code."
   ]
  },
  {
   "cell_type": "markdown",
   "id": "8b337dc4-9832-47dd-849e-d3a9c9d900e2",
   "metadata": {},
   "source": [
    "## Importing _modules_"
   ]
  },
  {
   "cell_type": "markdown",
   "id": "ae047d0a-7640-40c1-82fa-18b9c318d846",
   "metadata": {},
   "source": [
    "Python comes with hundreds of _modules_ doing all sorts of things. Also, many 3rd-party modules are available to download from the Internet."
   ]
  },
  {
   "cell_type": "markdown",
   "id": "2dba4df9-e7cb-4f1b-80dd-79a42660971b",
   "metadata": {},
   "source": [
    "There are several ways of importing _modules_:"
   ]
  },
  {
   "cell_type": "code",
   "execution_count": null,
   "id": "5070cb6d-aa67-4882-a971-df84978a5100",
   "metadata": {},
   "outputs": [],
   "source": [
    "# import the whole module\n",
    "import math\n",
    "\n",
    "# module's function name is in the module's namespace\n",
    "print(math.sqrt(16.0))"
   ]
  },
  {
   "cell_type": "code",
   "execution_count": null,
   "id": "ee0c7f4b-1dff-427f-aa3e-76d602dd43c5",
   "metadata": {},
   "outputs": [],
   "source": [
    "# import several modules at once\n",
    "import os, sys, time"
   ]
  },
  {
   "cell_type": "code",
   "execution_count": null,
   "id": "618f7aff-20a9-4e0c-beb3-a8ba07d1d2e7",
   "metadata": {},
   "outputs": [],
   "source": [
    "# use 'as' keyword to change the name of the module\n",
    "import math as m\n",
    "print(m.sqrt(36.0))"
   ]
  },
  {
   "cell_type": "code",
   "execution_count": null,
   "id": "bb8ac4ac-274c-48e8-ac31-050a26c454e8",
   "metadata": {},
   "outputs": [],
   "source": [
    "# import only a selected function from a module\n",
    "from math import sqrt\n",
    "\n",
    "# the function's name is in the global namespace\n",
    "print(sqrt(49))"
   ]
  },
  {
   "cell_type": "code",
   "execution_count": null,
   "id": "bec19c9b-3313-4c13-aff4-9f36e16830d4",
   "metadata": {},
   "outputs": [],
   "source": [
    "# change the name of the function in the module\n",
    "from math import sqrt as square_root\n",
    "print(square_root(25))"
   ]
  },
  {
   "cell_type": "code",
   "execution_count": null,
   "id": "d72d1ced-3172-4be0-b453-f4b5d139e79b",
   "metadata": {},
   "outputs": [],
   "source": [
    "# import all functions, variables, and classes from a module into the global namespace\n",
    "# - better to avoid this as some names from the module can interfere with your own variable names in the global namespace\n",
    "from math import *\n",
    "print(int(sqrt(4.0)))"
   ]
  },
  {
   "cell_type": "markdown",
   "id": "6aaf02cf-e637-4bba-aa54-53c4a94c30aa",
   "metadata": {},
   "source": [
    "To get help on a module at the Python shell, import it the whole (the very first way), then you can..."
   ]
  },
  {
   "cell_type": "code",
   "execution_count": null,
   "id": "bf6347c5-5e76-4a76-bb28-c5d08b984b71",
   "metadata": {},
   "outputs": [],
   "source": [
    "# get a list of the functions and variables in the module\n",
    "dir(math)"
   ]
  },
  {
   "cell_type": "code",
   "execution_count": null,
   "id": "b6c3333e-d525-45b7-a06f-b698fe19c29f",
   "metadata": {},
   "outputs": [],
   "source": [
    "# get a long description\n",
    "help(math)"
   ]
  },
  {
   "cell_type": "markdown",
   "id": "c30a20c7-cdf3-42f6-aa0b-fc2f846660f8",
   "metadata": {},
   "source": [
    "## Some useful _modules_"
   ]
  },
  {
   "cell_type": "markdown",
   "id": "b48d2dbb-8ed1-45a5-9975-c82a8dc60544",
   "metadata": {},
   "source": [
    "Python comes with a program called pip which will automatically fetch packages released and listed on PyPI: `pip install <some-module>`"
   ]
  },
  {
   "cell_type": "markdown",
   "id": "c6f3f792-632a-4398-80df-2c24bf95b264",
   "metadata": {},
   "source": [
    "| Name       | Description |\n",
    "|------------------|-------------|\n",
    "| **`time`**       | functions for dealing with time\n",
    "| **`datetime`**   | allows to work with dates and times together\n",
    "| **`os`**         | functions for working with files, directories and operating system\n",
    "| **`shutils`**    | contains a function to copy files\n",
    "| **`sys`**        | contains a function to quit your program\n",
    "| **`zipfile`**    | allows to compress/extract files or directory of files into/from a zip file\n",
    "| **`urllib`**     | allows to get files from the internet\n",
    "| **`math`**       | math functions such as `sin`, `cos`, `tan`, `exp`, `log`, `sqrt`, `floor`, `ceil` |\n",
    "| **`numpy`**      | fundamental package for scientific computing (a multidimensional array object; routines for fast operations on arrays, including mathematical, logical, shape manipulation, sorting, selecting; basic linear algebra, basic statistical operations, random simulation and much more) |\n",
    "| **`scipy`**      | a collection of mathematical algorithms and convenience functions built on the NumPy extension (high-level commands and classes for the manipulation and visualization of data) |\n",
    "| **`matplotlib`** | library for plotting\n",
    "| **`sympy`**      | symbolic computations\n",
    "| **`itertools`**  | provides a generator-like object named `permutations`\n",
    "| **`csv`**        | parsing and writing `csv` files"
   ]
  },
  {
   "cell_type": "markdown",
   "id": "ed0a406a-a1f3-4156-a381-2b276c5596c9",
   "metadata": {},
   "source": [
    "## Using _modules_"
   ]
  },
  {
   "cell_type": "markdown",
   "id": "65ad203e-672b-4401-9f40-d593a730a9f2",
   "metadata": {},
   "source": [
    "### _Example_\n",
    "Interfacing with the operating system: **`os`**"
   ]
  },
  {
   "cell_type": "code",
   "execution_count": null,
   "id": "0d4ba02e-0218-4a59-a957-1b9843c98f08",
   "metadata": {},
   "outputs": [],
   "source": [
    "import os\n",
    "home = \"/home\"\n",
    "print(os.path.join(home, os.environ[\"USER\"], \"holiday_planning.txt\"))\n",
    "print(os.listdir(\"/home/dmitry/Desktop\"))\n",
    "if not os.path.exists(\"nofile.txt\"):\n",
    "  print(\"File not found\")\n",
    "  exit(1)"
   ]
  },
  {
   "cell_type": "markdown",
   "id": "f98f744a-b8f6-49d4-89ba-7748b76947f4",
   "metadata": {},
   "source": [
    "We'll demonstrate how to use modules in the actual code using the example of reading/writing files. In the _Beginner_ course, we showed the basic reading/writing files using the built-in functions of Python. But there's a better way of doing that by means of the specialised module called **`csv`**."
   ]
  },
  {
   "cell_type": "markdown",
   "id": "847010e3-02d4-42d1-a863-41b3b9a29883",
   "metadata": {},
   "source": [
    "Writing a csv file:"
   ]
  },
  {
   "cell_type": "code",
   "execution_count": null,
   "id": "76236519-4c07-4528-9acb-6379a77f742c",
   "metadata": {},
   "outputs": [],
   "source": [
    "import csv, math\n",
    "\n",
    "with open (\"example.csv\", 'w') as out_f:\n",
    "    writer = csv.writer(out_f, delimiter=',')\n",
    "    writer.writerow([\"x_axis\", \"y_axis\"])\n",
    "    x_axis = [x * 0.1 for x in range(0, 100)]\n",
    "    for x in x_axis:\n",
    "        writer.writerow([x, math.cos(x)])"
   ]
  },
  {
   "cell_type": "markdown",
   "id": "3a702719-07d8-4542-a22a-5dddfcbe7970",
   "metadata": {},
   "source": [
    "Now, let’s extract the value for `y_axis` when `x_axis` is `1.0` for the csv we just wrote:"
   ]
  },
  {
   "cell_type": "code",
   "execution_count": null,
   "id": "309fbd09-fba7-469d-a3e5-c3e01ef64b26",
   "metadata": {},
   "outputs": [],
   "source": [
    "import csv\n",
    "\n",
    "with open (\"example.csv\", 'r') as in_f:\n",
    "    reader = csv.reader(in_f, delimiter=',')\n",
    "    next(reader) # skip header\n",
    "    for row in reader:\n",
    "        if row[0] == \"1.0\":\n",
    "            print(row[1])\n",
    "            break"
   ]
  },
  {
   "cell_type": "markdown",
   "id": "54ce21b8-e1cd-4a7c-ac2d-ee9d797afc96",
   "metadata": {},
   "source": [
    "## ```__main__``` special built-in variable"
   ]
  },
  {
   "cell_type": "markdown",
   "id": "71287aa1-8453-4ffe-ac1c-be8712f53481",
   "metadata": {},
   "source": []
  },
  {
   "cell_type": "markdown",
   "id": "7252e590-928a-4269-b44a-6c76a173d310",
   "metadata": {},
   "source": [
    "# <ins>5.</ins> Data structures and containers\n",
    "In the _Beginner_ level course, we've introduced to _lists_, the most commonly used compound data structure in Python. Here, we'll introduce to _**dictionaries**_, _**sets**_ and _**tuples**_."
   ]
  },
  {
   "cell_type": "markdown",
   "id": "5b0538e0-4778-4c6d-aeac-191b85c01980",
   "metadata": {
    "editable": true,
    "slideshow": {
     "slide_type": "slide"
    },
    "tags": []
   },
   "source": [
    "## Dictionaries\n",
    "A _dictionary_ is an unordered collection of key-value pairs, representing flexible mapping of keys to values. It's like a more general version of a list. In other words, it's an associative container permitting access based on a key, not an index. Dictionary items are colon-connected (`:`) key-value pairs enclosed by curly braces (`{}`)."
   ]
  },
  {
   "cell_type": "markdown",
   "id": "f098b798-3c7b-48dc-a097-c8c7fd883a9a",
   "metadata": {
    "slideshow": {
     "slide_type": null
    }
   },
   "source": [
    "- _Dictionaries_ are like labelled drawers:\n",
    "  - the label of the drawer is called a key;\n",
    "  - however dictionaries are \"kind of\" unordered;\n",
    "  - the content of that drawer is called the value;\n",
    "  - like lists, the types of keys and values do not have to match;\n",
    "  - keys need to be \"hashable\", usually basic data types.\n",
    "\n",
    "The syntax is `{'key': value}` or `dict(key=value)`."
   ]
  },
  {
   "cell_type": "code",
   "execution_count": null,
   "id": "736c1bad-1102-4f55-a3e7-593cd484a2b9",
   "metadata": {},
   "outputs": [],
   "source": [
    "# An empty dictionary\n",
    "my_dict = {}\n",
    "my_dict"
   ]
  },
  {
   "cell_type": "code",
   "execution_count": null,
   "id": "b3cbc875-cd96-4e1f-b573-eec3f58643c5",
   "metadata": {},
   "outputs": [],
   "source": [
    "# Another empty dictionary\n",
    "my_dict = dict()\n",
    "my_dict"
   ]
  },
  {
   "cell_type": "code",
   "execution_count": null,
   "id": "219ec419-8cda-4478-80c7-99a0ca12e820",
   "metadata": {},
   "outputs": [],
   "source": [
    "# Initialising a dictionary\n",
    "my_dict = {'temperature_k': 298.5, 'pressure': 1.015}\n",
    "my_dict"
   ]
  },
  {
   "cell_type": "code",
   "execution_count": null,
   "id": "63901797-e327-4694-8cd6-be233c9e179f",
   "metadata": {},
   "outputs": [],
   "source": [
    "# Another way to initialise a dictionary\n",
    "my_dict = dict(temperature_k=298.5, pressure=1.015)\n",
    "my_dict"
   ]
  },
  {
   "cell_type": "code",
   "execution_count": null,
   "id": "bc65d900-2b43-40d2-858e-88d2af9a1a9e",
   "metadata": {},
   "outputs": [],
   "source": [
    "# Add a new key-value pair to the dictionary\n",
    "my_dict['volume'] = 100.0\n",
    "my_dict"
   ]
  },
  {
   "cell_type": "markdown",
   "id": "3743f63c-a367-4797-a083-3deec8996924",
   "metadata": {},
   "source": [
    "### _Example_\n",
    "Extending a list to a dictionary"
   ]
  },
  {
   "cell_type": "code",
   "execution_count": null,
   "id": "f0ebecc4-415f-457e-a7f4-748c7f0fcba7",
   "metadata": {},
   "outputs": [],
   "source": [
    "# A list containing the number of days in the months of the year\n",
    "days = [31, 28, 31, 30, 31, 30, 31, 31, 30, 31, 30, 31]"
   ]
  },
  {
   "cell_type": "code",
   "execution_count": null,
   "id": "12a93950-b585-49c3-b5f3-4d9a185bdd27",
   "metadata": {},
   "outputs": [],
   "source": [
    "# How many days in January and in June? Not the best idea to store this data in lists\n",
    "print(f\"In January, there are {days[0]} days\")\n",
    "print(f\"In June, there are {days[5]} days\")"
   ]
  },
  {
   "cell_type": "markdown",
   "id": "ef184802-47ff-4ae3-bd8f-882c12b100e1",
   "metadata": {},
   "source": [
    "## Sets\n",
    "A _set_ is unordered collection of unique elements, representing a mathematical set. Pythoh stores the data in a set in whatever order it wants to, so indexing has no meaning for sets unlike for lists. It looks like a list, but with no repeats, and is denoted by curly braces (`{}`)."
   ]
  },
  {
   "cell_type": "code",
   "execution_count": null,
   "id": "9363f078-b50b-457d-bd5c-b6501e077670",
   "metadata": {},
   "outputs": [],
   "source": [
    "# An empty set\n",
    "my_set = set()\n",
    "my_set"
   ]
  },
  {
   "cell_type": "code",
   "execution_count": null,
   "id": "27779381-fbb0-44bf-8c49-1b147a816645",
   "metadata": {},
   "outputs": [],
   "source": [
    "# Initialising a set\n",
    "my_set = {1, 2, 3, 4, 5}\n",
    "my_set"
   ]
  },
  {
   "cell_type": "code",
   "execution_count": null,
   "id": "5cb56e51-dc23-4e3a-aa60-2ac0dd04477a",
   "metadata": {},
   "outputs": [],
   "source": [
    "# Converting a list to a set\n",
    "set([1,4,4,4,5,1,2,1,3])"
   ]
  },
  {
   "cell_type": "code",
   "execution_count": null,
   "id": "365fcf47-65f2-4779-a9d8-1ed9cc348315",
   "metadata": {},
   "outputs": [],
   "source": [
    "# Converting a string to a set\n",
    "set('this is a string')"
   ]
  },
  {
   "cell_type": "markdown",
   "id": "ed5bc56b-dde6-4cc0-a8b2-0c73034618ac",
   "metadata": {},
   "source": [
    "There are a few operators that work with sets as well as some useful methods:\n",
    "\n",
    "| Operator | Description          | Example                        |\n",
    "|----------|----------------------|--------------------------------|\n",
    "| `\\|`     | union                | `{1,2,3} \\| {3,4} → {1,2,3,4}` |\n",
    "| `&`      | intersection         | `{1,2,3} & {3,4} → {3}`        |\n",
    "| `-`      | difference           | `{1,2,3} - {3,4} → {1,2}`      |\n",
    "| `^`      | symmetric difference | `{1,2,3} ^ {3,4} → {1,2,4}`    |\n",
    "| `in`     | is an element of     | `3 in {1,2,3} → True`          |\n",
    "\n",
    "| Method            | Description                                   |\n",
    "|-------------------|-----------------------------------------------|\n",
    "| `S.add(x)`        | Add `x` to the set                            |\n",
    "| `S.remove(x)`     | Remove `x` from the set                       |\n",
    "| `S.issubset(A)`   | Returns `True` if S ⊂ A and `False` otherwise |\n",
    "| `S.issuperset(A)` | Returns `True` if A ⊂ S and `False` otherwise |\n",
    "\n",
    "There are also _set comprehensions_ just like list comprehensions."
   ]
  },
  {
   "cell_type": "code",
   "execution_count": null,
   "id": "10a218b0-27fe-45ff-ba77-ce8880aef5ca",
   "metadata": {},
   "outputs": [],
   "source": [
    "s = {i**2 for i in range(12)}\n",
    "print(s)"
   ]
  },
  {
   "cell_type": "markdown",
   "id": "09afd725-a5c1-4755-b97d-cf72879c6a17",
   "metadata": {},
   "source": [
    "### _Example 1_\n",
    "Removing repeated elements from lists"
   ]
  },
  {
   "cell_type": "code",
   "execution_count": null,
   "id": "02eeb2e1-f64b-4934-81de-c2317d17a6cc",
   "metadata": {},
   "outputs": [],
   "source": [
    "L = [1,4,4,4,5,1,2,1,3]\n",
    "L = list(set(L))\n",
    "print(L)"
   ]
  },
  {
   "cell_type": "markdown",
   "id": "0d8771b4-60b8-4f52-8f98-a9b5ea1d8561",
   "metadata": {},
   "source": [
    "### _Example 2_\n",
    "Wordplay: an example of an `if` statement that uses a `set` to see if every letter in a\n",
    "word is either an `a`, `b`, `c`, `d`, or `e`:"
   ]
  },
  {
   "cell_type": "code",
   "execution_count": null,
   "id": "ef4fb8d3-79c6-4424-be3c-242de9bf154f",
   "metadata": {},
   "outputs": [],
   "source": [
    "if set(word).containedin( 'abcde '):"
   ]
  },
  {
   "cell_type": "markdown",
   "id": "60ea6a1e-1014-4439-a512-8037ae68e3b4",
   "metadata": {},
   "source": [
    "## Tuples\n",
    "A _tuple_ is essentially an immutable list. Indexing and slicing work the same as with lists. As with lists, you can get the length of the tuple by using the `len` function, and, like lists, tuples have `count` and `index` methods. However, since a _tuple_ is immutable, it does not have any of the other methods that lists have (such as `sort` or `reverse`). Tuples are enclosed in parentheses (`()`), though the parentheses are actually optional."
   ]
  },
  {
   "cell_type": "code",
   "execution_count": null,
   "id": "42111fae-d9a3-4059-b472-3e3b1d586132",
   "metadata": {},
   "outputs": [],
   "source": [
    "# An empty tuple\n",
    "my_tuple = tuple()\n",
    "my_tuple"
   ]
  },
  {
   "cell_type": "code",
   "execution_count": null,
   "id": "6e137a64-1e21-4367-8620-559b1accabb8",
   "metadata": {},
   "outputs": [],
   "source": [
    "# Initialising a tuple (different ways)\n",
    "my_tuple = (1,2,3)\n",
    "print(my_tuple)\n",
    "#my_tuple = 4,5,6\n",
    "#print(my_tuple)\n",
    "\n",
    "# The way to get a tuple with one element is like this:\n",
    "#my_tuple = (1,)\n",
    "#print(my_tuple)"
   ]
  },
  {
   "cell_type": "code",
   "execution_count": null,
   "id": "8078f732-c90c-4691-95c5-ac92eefb2882",
   "metadata": {},
   "outputs": [],
   "source": [
    "# A practical way to exchange values between variables through tuples\n",
    "a = 1\n",
    "b = 2\n",
    "print(a, b)\n",
    "a, b = b, a\n",
    "print(a, b)"
   ]
  },
  {
   "cell_type": "code",
   "execution_count": null,
   "id": "ed9e4845-0367-4d87-b483-9c4a70c32876",
   "metadata": {},
   "outputs": [],
   "source": [
    "# Converting a list to a tuple\n",
    "t1 = tuple([1,2,3])\n",
    "print(t1)"
   ]
  },
  {
   "cell_type": "code",
   "execution_count": null,
   "id": "2c91b11d-de25-45ea-93b7-0e24ea1886e1",
   "metadata": {},
   "outputs": [],
   "source": [
    "# Converting a string to a tuple\n",
    "t2 = tuple( 'abcde ')\n",
    "print(t2)"
   ]
  },
  {
   "cell_type": "markdown",
   "id": "bb206d02-ec19-41b7-b0f8-f5ab9b372788",
   "metadata": {},
   "source": [
    "The dictionary method `items` returns a list of tuples (see an exercise after _dictionaries_)."
   ]
  },
  {
   "cell_type": "markdown",
   "id": "31d9184f-2f98-4032-b03b-c98857bf8e24",
   "metadata": {},
   "source": [
    "## Notes on list, strings, dictionaries, sets, and tuples"
   ]
  },
  {
   "cell_type": "markdown",
   "id": "84a935ff-9c47-4684-9c45-91b3e61f2167",
   "metadata": {},
   "source": [
    "* **_Lists_** and **_dictionaries_** are _mutable_, which means their contents can be changed.\n",
    "* **_String_** and **_tuples_** are _immutable_, which means they cannot be changed.\n",
    "* **_Lists_** are typically for homogeneous data sequences (ingredients, names) whereas **_tuples_** are ideal for heterogeneous data (entries with different meanings)."
   ]
  },
  {
   "cell_type": "markdown",
   "id": "83150c50-f0d5-4d17-a3d5-adac9099f506",
   "metadata": {},
   "source": [
    "_Lists_ and _strings_ behave differently when we try to make copies."
   ]
  },
  {
   "cell_type": "code",
   "execution_count": null,
   "id": "4ca9a202-ef4d-4284-962a-acf03997d9cd",
   "metadata": {},
   "outputs": [],
   "source": [
    "s = 'Hello '\n",
    "copy = s\n",
    "s = s + '!!! '\n",
    "print( 's is now: ', s, '; Copy: ', copy)"
   ]
  },
  {
   "cell_type": "code",
   "execution_count": null,
   "id": "dfcbcb61-469e-471a-8c37-6b3d63cc4a40",
   "metadata": {},
   "outputs": [],
   "source": [
    "L = [1,2,3]\n",
    "copy = L\n",
    "L[0] = 9\n",
    "print( 'L is now: ', L, 'Copy: ', copy)"
   ]
  },
  {
   "cell_type": "markdown",
   "id": "d9adad54-9936-4fe9-b2d4-71352d6084e0",
   "metadata": {},
   "source": [
    "Everything in Python is an object. This includes numbers, strings, and lists and any other data structure. When we\n",
    "do a simple assignment for a scalar _variable_, like `x=487`, the variable `x` acts as a _reference_ to that object. All objects are treated the same way. In the example of a _string_ above, `copy` is another reference to `'Hello'`. When we do `s=s+'!!!'`, `s` is now referencing another new string object because strings are _immutable_. Whereas in the example of a _list_, when we change an element in the list, no new list is created, the old list is actually changed _in place_ because lists are _mutable_.\n",
    "\n",
    "So, how to modify the example with a list, so that it behaves as expected? We need to create a new copy of the entire list, which is done by `L[:]`"
   ]
  },
  {
   "cell_type": "code",
   "execution_count": null,
   "id": "dde5f7b2-0ae1-4945-a3c5-2015ed24938e",
   "metadata": {},
   "outputs": [],
   "source": [
    "L = [1,2,3]\n",
    "copy = L[:]\n",
    "L[0] = 9\n",
    "print( 'L is now: ', L, 'Copy: ', copy)"
   ]
  },
  {
   "cell_type": "markdown",
   "id": "30326314-62b7-4994-a0d1-75b7448512f0",
   "metadata": {
    "slideshow": {
     "slide_type": "slide"
    },
    "tags": []
   },
   "source": [
    "## Have a Play!"
   ]
  },
  {
   "cell_type": "markdown",
   "id": "985be140-2ca0-4660-8ec8-04d16df4c422",
   "metadata": {
    "jp-MarkdownHeadingCollapsed": true
   },
   "source": [
    "### _Exercise 1 (dictionaries)_"
   ]
  },
  {
   "cell_type": "markdown",
   "id": "5f111cfd-7c42-4516-92fc-1bfe3751894a",
   "metadata": {},
   "source": [
    "1) Create a dictionary of the days in the months of the year.\n",
    "2) Print out the number of the days for any month as it was done for lists."
   ]
  },
  {
   "cell_type": "code",
   "execution_count": null,
   "id": "8aa427e0-d186-4adb-adb1-775d57913b76",
   "metadata": {},
   "outputs": [],
   "source": [
    "days = {'January':31,\n",
    "        'February':28,\n",
    "        'March':31,\n",
    "        'April':30,\n",
    "        'May':31,\n",
    "        'June':30,\n",
    "        'July':31,\n",
    "        'August':31,\n",
    "        'September':30,\n",
    "        'October':31,\n",
    "        'November':30,\n",
    "        'December':31}\n",
    "print(f\"In January, there are {days['January']} days\")\n",
    "print(f\"In June, there are {days['June']} days\")"
   ]
  },
  {
   "cell_type": "code",
   "execution_count": null,
   "id": "fb0bbe6d-7b55-420a-a4ae-8b676f225f49",
   "metadata": {},
   "outputs": [],
   "source": [
    "days = ..."
   ]
  },
  {
   "cell_type": "markdown",
   "id": "7f7acaf9-5d57-456a-9c0e-30a3b4e996b3",
   "metadata": {},
   "source": [
    "### _Exercise 2 (dictionaries)_"
   ]
  },
  {
   "cell_type": "markdown",
   "id": "a4ef617d-41cb-40e7-8e99-25f26faa17da",
   "metadata": {},
   "source": [
    "1. Create a dictionary of several countries and capitals. Think about what's going to be a key and a value.\n",
    "2. Try create the initial dictionary by initialising it.\n",
    "   Try to add new countries with their capitals.\n",
    "3. Print out the whole dictionary line by line in a loop each representing a country and its capital respectfully."
   ]
  },
  {
   "cell_type": "code",
   "execution_count": null,
   "id": "116a7265-83a8-4d71-a0b0-b98f47821980",
   "metadata": {},
   "outputs": [],
   "source": [
    "# finish the lines below\n",
    "\n",
    "# create a dictionary\n",
    "capitals = {'Norway':'Oslo', 'Sweden':'Stockholm', 'France':'Paris'}\n",
    "# capitals = dict(Norway='Oslo', Sweden='Stockholm', France='Paris')\n",
    "\n",
    "# add a new country and its capital\n",
    "capitals['Germany'] = 'Berlin' # instead of append() to `list`\n",
    "\n",
    "# print information about countries and their capitals\n",
    "for country in capitals:\n",
    "    print(f'The capital of {country} is {capitals[country]}')"
   ]
  },
  {
   "cell_type": "markdown",
   "id": "3841425e-f9ca-4dbb-b44c-5ed7fd801722",
   "metadata": {},
   "source": [
    "### _Exercise 3 (tuples)_"
   ]
  },
  {
   "cell_type": "markdown",
   "id": "edd5d4f1-bb4c-4e5a-8995-43091a998286",
   "metadata": {},
   "source": [
    "Try `items()` method on the dictionary you've created before. Print that out. What kind of data structure does it display?"
   ]
  },
  {
   "cell_type": "code",
   "execution_count": null,
   "id": "a622a715-2c51-4d8e-af8f-a5e6a12b53b0",
   "metadata": {},
   "outputs": [],
   "source": [
    "print(capitals.items())\n",
    "print(type(capitals.items()))"
   ]
  },
  {
   "cell_type": "markdown",
   "id": "92b7669e-7e3e-4e0f-a3d9-fbb46d29f636",
   "metadata": {},
   "source": [
    "##### Answer"
   ]
  },
  {
   "cell_type": "markdown",
   "id": "fccd8607-5c44-42b7-93ae-edf64e72b1c2",
   "metadata": {},
   "source": [
    "List "
   ]
  },
  {
   "cell_type": "markdown",
   "id": "7e61f6c8-efa7-4cae-939d-45a18c8d5889",
   "metadata": {},
   "source": [
    "# <ins>6.</ins> Brief introduction to classes"
   ]
  },
  {
   "cell_type": "markdown",
   "id": "22ad2487-f18f-4a1d-affc-ed5868bea800",
   "metadata": {},
   "source": [
    "[TBD] to insert from presentation"
   ]
  }
 ],
 "metadata": {
  "kernelspec": {
   "display_name": "Python 3 (ipykernel)",
   "language": "python",
   "name": "python3"
  },
  "language_info": {
   "codemirror_mode": {
    "name": "ipython",
    "version": 3
   },
   "file_extension": ".py",
   "mimetype": "text/x-python",
   "name": "python",
   "nbconvert_exporter": "python",
   "pygments_lexer": "ipython3",
   "version": "3.10.12"
  },
  "rise": {
   "scroll": true
  }
 },
 "nbformat": 4,
 "nbformat_minor": 5
}
